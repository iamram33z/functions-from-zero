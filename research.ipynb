{
 "cells": [
  {
   "cell_type": "code",
   "execution_count": 4,
   "metadata": {},
   "outputs": [
    {
     "name": "stderr",
     "output_type": "stream",
     "text": [
      "25/01/16 16:58:20 WARN Utils: Your hostname, codespaces-c9859e resolves to a loopback address: 127.0.0.1; using 10.0.1.137 instead (on interface eth0)\n",
      "25/01/16 16:58:20 WARN Utils: Set SPARK_LOCAL_IP if you need to bind to another address\n",
      "Setting default log level to \"WARN\".\n",
      "To adjust logging level use sc.setLogLevel(newLevel). For SparkR, use setLogLevel(newLevel).\n",
      "25/01/16 16:58:20 WARN NativeCodeLoader: Unable to load native-hadoop library for your platform... using builtin-java classes where applicable\n"
     ]
    }
   ],
   "source": [
    "# Import Spark Session\n",
    "from pyspark.sql import SparkSession\n",
    "\n",
    "# Create a Spark Session\n",
    "spark = SparkSession \\\n",
    "        .builder \\\n",
    "        .appName(\"PySpark Example\") \\\n",
    "        .config(\"spark.some.config.option\", \"config-value\") \\\n",
    "        .getOrCreate()"
   ]
  },
  {
   "cell_type": "code",
   "execution_count": 5,
   "metadata": {},
   "outputs": [
    {
     "data": {
      "text/html": [
       "\n",
       "            <div>\n",
       "                <p><b>SparkSession - in-memory</b></p>\n",
       "                \n",
       "        <div>\n",
       "            <p><b>SparkContext</b></p>\n",
       "\n",
       "            <p><a href=\"http://58c06193-58b4-4aa6-ab0b-3816a78c65cc.internal.cloudapp.net:4040\">Spark UI</a></p>\n",
       "\n",
       "            <dl>\n",
       "              <dt>Version</dt>\n",
       "                <dd><code>v3.5.4</code></dd>\n",
       "              <dt>Master</dt>\n",
       "                <dd><code>local[*]</code></dd>\n",
       "              <dt>AppName</dt>\n",
       "                <dd><code>PySpark Example</code></dd>\n",
       "            </dl>\n",
       "        </div>\n",
       "        \n",
       "            </div>\n",
       "        "
      ],
      "text/plain": [
       "<pyspark.sql.session.SparkSession at 0x71044c10ac60>"
      ]
     },
     "execution_count": 5,
     "metadata": {},
     "output_type": "execute_result"
    }
   ],
   "source": [
    "spark"
   ]
  },
  {
   "cell_type": "code",
   "execution_count": 8,
   "metadata": {},
   "outputs": [],
   "source": [
    "account = spark.read.csv ('./data/accounts.csv', header=True, inferSchema=True)"
   ]
  },
  {
   "cell_type": "code",
   "execution_count": 12,
   "metadata": {},
   "outputs": [
    {
     "name": "stdout",
     "output_type": "stream",
     "text": [
      "+---+-----------+---------+--------------------+------+------------+-------------+-----+-------+------------+\n",
      "| id| first_name|last_name|               email|gender|  ip_address|         city|state|country|       phone|\n",
      "+---+-----------+---------+--------------------+------+------------+-------------+-----+-------+------------+\n",
      "|  1|       John|      Doe|john.doe@example.com|  Male| 192.168.1.1|     New York|   NY|    USA|123-456-7890|\n",
      "|  2|       Jane|    Smith|jane.smith@exampl...|Female| 192.168.1.2|  Los Angeles|   CA|    USA|123-456-7891|\n",
      "|  3|        Jim|    Brown|jim.brown@example...|  Male| 192.168.1.3|      Chicago|   IL|    USA|123-456-7892|\n",
      "|  4|      Emily|    Davis|emily.davis@examp...|Female| 192.168.1.4|      Houston|   TX|    USA|123-456-7893|\n",
      "|  5|    Michael|   Wilson|michael.wilson@ex...|  Male| 192.168.1.5|      Phoenix|   AZ|    USA|123-456-7894|\n",
      "|  6|      Sarah|  Johnson|sarah.johnson@exa...|Female| 192.168.1.6| Philadelphia|   PA|    USA|123-456-7895|\n",
      "|  7|      David|      Lee|david.lee@example...|  Male| 192.168.1.7|  San Antonio|   TX|    USA|123-456-7896|\n",
      "|  8|      Laura| Martinez|laura.martinez@ex...|Female| 192.168.1.8|    San Diego|   CA|    USA|123-456-7897|\n",
      "|  9|     Robert|   Garcia|robert.garcia@exa...|  Male| 192.168.1.9|       Dallas|   TX|    USA|123-456-7898|\n",
      "| 10|      Linda| Anderson|linda.anderson@ex...|Female|192.168.1.10|     San Jose|   CA|    USA|123-456-7899|\n",
      "| 11|      James|   Thomas|james.thomas@exam...|  Male|192.168.1.11|       Austin|   TX|    USA|123-456-7800|\n",
      "| 12|   Patricia|  Jackson|patricia.jackson@...|Female|192.168.1.12| Jacksonville|   FL|    USA|123-456-7801|\n",
      "| 13|    Charles|    White|charles.white@exa...|  Male|192.168.1.13|   Fort Worth|   TX|    USA|123-456-7802|\n",
      "| 14|    Barbara|   Harris|barbara.harris@ex...|Female|192.168.1.14|     Columbus|   OH|    USA|123-456-7803|\n",
      "| 15|     Joseph|    Clark|joseph.clark@exam...|  Male|192.168.1.15|    Charlotte|   NC|    USA|123-456-7804|\n",
      "| 16|   Jennifer|    Lopez|jennifer.lopez@ex...|Female|192.168.1.16|San Francisco|   CA|    USA|123-456-7805|\n",
      "| 17|     Thomas|   Walker|thomas.walker@exa...|  Male|192.168.1.17| Indianapolis|   IN|    USA|123-456-7806|\n",
      "| 18|       Mary|     Hall|mary.hall@example...|Female|192.168.1.18|      Seattle|   WA|    USA|123-456-7807|\n",
      "| 19|Christopher|    Allen|christopher.allen...|  Male|192.168.1.19|       Denver|   CO|    USA|123-456-7808|\n",
      "| 20|  Elizabeth|    Young|elizabeth.young@e...|Female|192.168.1.20|   Washington|   DC|    USA|123-456-7809|\n",
      "+---+-----------+---------+--------------------+------+------------+-------------+-----+-------+------------+\n",
      "only showing top 20 rows\n",
      "\n"
     ]
    }
   ],
   "source": [
    "account.show()"
   ]
  },
  {
   "cell_type": "code",
   "execution_count": 13,
   "metadata": {},
   "outputs": [
    {
     "name": "stdout",
     "output_type": "stream",
     "text": [
      "root\n",
      " |-- id: integer (nullable = true)\n",
      " |-- first_name: string (nullable = true)\n",
      " |-- last_name: string (nullable = true)\n",
      " |-- email: string (nullable = true)\n",
      " |-- gender: string (nullable = true)\n",
      " |-- ip_address: string (nullable = true)\n",
      " |-- city: string (nullable = true)\n",
      " |-- state: string (nullable = true)\n",
      " |-- country: string (nullable = true)\n",
      " |-- phone: string (nullable = true)\n",
      "\n"
     ]
    }
   ],
   "source": [
    "account.printSchema()"
   ]
  },
  {
   "cell_type": "code",
   "execution_count": 14,
   "metadata": {},
   "outputs": [],
   "source": [
    "transaction = spark.read.parquet ('./data/transactions.parquet', header=True, inferSchema=True)"
   ]
  },
  {
   "cell_type": "code",
   "execution_count": 15,
   "metadata": {},
   "outputs": [
    {
     "name": "stdout",
     "output_type": "stream",
     "text": [
      "+-------------------+-------------------+--------------------+-------------------+-------------------+-------------------+--------------------+-------------------+-------------------+-------------------+\n",
      "|           column_0|           column_1|            column_2|           column_3|           column_4|           column_5|            column_6|           column_7|           column_8|           column_9|\n",
      "+-------------------+-------------------+--------------------+-------------------+-------------------+-------------------+--------------------+-------------------+-------------------+-------------------+\n",
      "|0.06975166797595889| 0.3596639014335491|  0.9579058879421196| 0.2873336206852799| 0.7510577598575394| 0.0453202643241456|  0.4669911300518941|0.11923585143100679| 0.1746633714382202| 0.1651054599812375|\n",
      "| 0.1309545537499628| 0.5530916563605244| 0.12964005586725436| 0.5768067113989005| 0.4156262361862002|0.20083930841908182|  0.8027172863625173| 0.8947573249020708| 0.8632956555294274|0.20778074467159469|\n",
      "| 0.6597230175688046|0.23588840545758682|   0.428146135949086| 0.8416245564257551| 0.6900763543674839|  0.422659206963262|0.038188186401380886| 0.7896125289718294|0.21788817276234396|  0.610373427239517|\n",
      "|0.26763217093548275| 0.3817435699286812| 0.31803796063095235| 0.2052251483173969| 0.4082190397650951|0.09484973992550216| 0.47498757060761754| 0.8437016240230705|0.30730903006504573| 0.6165899488579915|\n",
      "|   0.44485584335424| 0.2907422241207036|  0.1734167287657764|0.22798194134520644| 0.0745026255627832|0.05608203684503965| 0.14809479790597535| 0.5918384495313268| 0.8144572481942214| 0.6681014181291733|\n",
      "|0.47965909526137096|0.42385605076455957|  0.3733337662404518| 0.3276403543931934|0.45178433306052523|0.37553279557431285|  0.5770194923739168| 0.3491985559857028| 0.8056957523387364| 0.9400060389167058|\n",
      "| 0.5102788325394954|0.39889954686979723| 0.14903981290766688| 0.6252992598763236| 0.7005898767702714|   0.94403931819968|  0.8478718983239109|  0.990603536258478| 0.7532669313719461|0.17780916229454047|\n",
      "|  0.892474692795394|0.32486572369972877|  0.9111371300503982| 0.8274907372269248|0.21191933170011712|0.12729615933002192|0.003125637365500...|0.06080972840016352| 0.9369900431447193| 0.8071575390087374|\n",
      "| 0.5776836225142266|0.31779557826483484| 0.25914816138963703| 0.6841867883056594|0.37870518955120536| 0.5545130412390065| 0.44183516323546657| 0.4221991491138485| 0.6918971097886415| 0.7929795694258841|\n",
      "| 0.8223015820243039| 0.9963059365921091|  0.8896220442474434|0.41266475641029254|  0.468819777872039| 0.6185291954209554|  0.7046228369404438| 0.9752835957943803|   0.41843273060457| 0.7100778802557259|\n",
      "| 0.3392256700694487| 0.3299775433348904|  0.8857209423172043| 0.4690897279479963|0.14241985733568518| 0.5687224355180576|  0.8158618824103615| 0.8416123799403262| 0.8002673100659563|0.10410907203065578|\n",
      "| 0.3638243329052163| 0.2486175781554184|  0.6471387241187802|0.17879908096111718|  0.918415436636173| 0.5199198405988249|  0.6736875918466512| 0.4399869510518474|0.37148630221275636|0.04957944298353745|\n",
      "| 0.6703549367216466|0.24363918510948135|  0.4897631892342331| 0.9959651233290883| 0.5890224151416575| 0.6212307816042385|   0.267582250733704| 0.6251569942773997| 0.8745487031624826| 0.4904412618681717|\n",
      "| 0.9319898611813984| 0.9450003487310409| 0.16002649053774753| 0.3802719010379534| 0.3613413640424714| 0.5502704757386214|  0.7507367032734965|0.03554273692741605| 0.7515371236472327| 0.9981772718183394|\n",
      "|  0.392734073450271| 0.9038281849646358|  0.6784187199340138| 0.9719113462385889| 0.8982944143904679| 0.9818795243757725| 0.34231425987381614|0.43971821257322397| 0.9267527401643766| 0.8955904505602508|\n",
      "|0.46784169792854136|0.20916317651616112|  0.7983969632563397| 0.5350828332373568|0.04495009718312348|0.10389398454058696|  0.7826241158481296|  0.987480474255159| 0.6131942580157851| 0.1566641093715455|\n",
      "| 0.9333594543674731|0.34285434721306407|  0.5315868687345614|   0.97852827198835| 0.5689548257865255|0.11715955079708451|  0.6331444607907067| 0.5258329832208405| 0.6770583673372544|0.27841955030921794|\n",
      "| 0.5910919108174321| 0.5933765275488456|  0.0570005784562676| 0.9323825381774327| 0.9895234549617001| 0.7147690998127185|  0.9095486974836563| 0.4410591797776635|0.22472673459043147|0.23489181590982988|\n",
      "| 0.9805426740911395|0.06554713291703707|0.042911869174156014| 0.3186271304030638| 0.8105074217322016| 0.7694325761336329|  0.7481422871963987|0.29137335164038736| 0.1153431748256527| 0.6127556669756179|\n",
      "| 0.7184206800939397| 0.9546120298613229| 0.13651252619587795| 0.9996502240478845| 0.6692491211085602|0.23517097432224088|  0.1711466773100545|0.43325707083731035| 0.5241739334451981|0.20196169507121142|\n",
      "+-------------------+-------------------+--------------------+-------------------+-------------------+-------------------+--------------------+-------------------+-------------------+-------------------+\n",
      "only showing top 20 rows\n",
      "\n"
     ]
    }
   ],
   "source": [
    "transaction.show()"
   ]
  },
  {
   "cell_type": "code",
   "execution_count": 16,
   "metadata": {},
   "outputs": [
    {
     "name": "stdout",
     "output_type": "stream",
     "text": [
      "root\n",
      " |-- column_0: double (nullable = true)\n",
      " |-- column_1: double (nullable = true)\n",
      " |-- column_2: double (nullable = true)\n",
      " |-- column_3: double (nullable = true)\n",
      " |-- column_4: double (nullable = true)\n",
      " |-- column_5: double (nullable = true)\n",
      " |-- column_6: double (nullable = true)\n",
      " |-- column_7: double (nullable = true)\n",
      " |-- column_8: double (nullable = true)\n",
      " |-- column_9: double (nullable = true)\n",
      "\n"
     ]
    }
   ],
   "source": [
    "transaction.printSchema()"
   ]
  },
  {
   "cell_type": "code",
   "execution_count": 17,
   "metadata": {},
   "outputs": [
    {
     "data": {
      "text/plain": [
       "100"
      ]
     },
     "execution_count": 17,
     "metadata": {},
     "output_type": "execute_result"
    }
   ],
   "source": [
    "transaction.count()"
   ]
  },
  {
   "cell_type": "code",
   "execution_count": null,
   "metadata": {},
   "outputs": [],
   "source": []
  }
 ],
 "metadata": {
  "kernelspec": {
   "display_name": "Python 3",
   "language": "python",
   "name": "python3"
  },
  "language_info": {
   "codemirror_mode": {
    "name": "ipython",
    "version": 3
   },
   "file_extension": ".py",
   "mimetype": "text/x-python",
   "name": "python",
   "nbconvert_exporter": "python",
   "pygments_lexer": "ipython3",
   "version": "3.12.1"
  }
 },
 "nbformat": 4,
 "nbformat_minor": 2
}
